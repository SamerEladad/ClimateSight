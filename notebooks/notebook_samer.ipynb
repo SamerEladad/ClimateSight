{
 "cells": [
  {
   "cell_type": "code",
   "execution_count": 4,
   "id": "b04bc787",
   "metadata": {},
   "outputs": [],
   "source": [
    "import pandas as pd\n",
    "from datetime import datetime"
   ]
  },
  {
   "cell_type": "code",
   "execution_count": 5,
   "id": "353df84d",
   "metadata": {},
   "outputs": [],
   "source": [
    "# Define the file paths\n",
    "file1 = '/Users/samer/Documents/ds_projects/Techlabs_DS/ClimateSight/datasets/raw/TrafficEvents_Aug16_Dec20_Publish.csv'\n",
    "file2 = '/Users/samer/Documents/ds_projects/Techlabs_DS/ClimateSight/datasets/raw/WeatherEvents_Jan2016-Dec2022.csv'\n",
    "file3 = '/Users/samer/Documents/ds_projects/Techlabs_DS/ClimateSight/datasets/raw/WeatherEvents_Aug16_Dec20_Publish.csv'\n",
    "\n",
    "# Read the files\n",
    "data1 = pd.read_csv(file1)\n",
    "data2 = pd.read_csv(file2)\n",
    "data3 = pd.read_csv(file3)"
   ]
  },
  {
   "cell_type": "code",
   "execution_count": 6,
   "id": "1731f552",
   "metadata": {},
   "outputs": [
    {
     "name": "stdout",
     "output_type": "stream",
     "text": [
      "   EventId        Type  Severity  TMC  \\\n",
      "0  T-38768  Congestion         2   73   \n",
      "1  T-38772  Congestion         2   72   \n",
      "2  T-38775  Congestion         2   72   \n",
      "3  T-38777  Congestion         1   75   \n",
      "4  T-38781  Congestion         2   75   \n",
      "\n",
      "                                         Description       StartTime(UTC)  \\\n",
      "0  Severe delays of 18 minutes on US-101 Redwood ...  2016-08-01 00:03:00   \n",
      "1  Delays of eight minutes on CA-92 San Mateo Rd ...  2016-08-01 00:07:00   \n",
      "2  Severe delays of 20 minutes and delays increas...  2016-08-01 00:00:00   \n",
      "3  Delays of two minutes on Valley Fwy Southbound...  2016-08-01 00:08:00   \n",
      "4  Delays of five minutes on CA-37 Sears Point Rd...  2016-08-01 00:13:00   \n",
      "\n",
      "          EndTime(UTC)    TimeZone  LocationLat  LocationLng  Distance(mi)  \\\n",
      "0  2016-08-01 00:14:28  US/Pacific    38.214657  -122.602669           0.0   \n",
      "1  2016-08-01 00:18:44  US/Pacific    37.477329  -122.415703           0.0   \n",
      "2  2016-08-01 00:18:44  US/Pacific    36.985863  -121.981026           0.0   \n",
      "3  2016-08-01 00:19:44  US/Pacific    37.105865  -121.613411           0.0   \n",
      "4  2016-08-01 00:27:26  US/Pacific    38.150387  -122.450569           0.0   \n",
      "\n",
      "  AirportCode   Number           Street Side           City       County  \\\n",
      "0        KO69      NaN    Redwood Hwy S    R       Petaluma       Sonoma   \n",
      "1        KHAF  12685.0     San Mateo Rd    L  Half Moon Bay    San Mateo   \n",
      "2        KWVI      NaN  State Highway 1    R     Santa Cruz   Santa Cruz   \n",
      "3        KE16      NaN   S Valley Fwy S    R     San Martin  Santa Clara   \n",
      "4        KO69      NaN   Sears Point Rd    R       Petaluma       Sonoma   \n",
      "\n",
      "  State  ZipCode  \n",
      "0    CA  94952.0  \n",
      "1    CA  94019.0  \n",
      "2    CA  95062.0  \n",
      "3    CA  95046.0  \n",
      "4    CA  94954.0  \n"
     ]
    }
   ],
   "source": [
    "# Display the first 5 Lines of TrafficEvents_Aug16_Dec20_Publish.csv\n",
    "print(data1.head())"
   ]
  },
  {
   "cell_type": "code",
   "execution_count": 7,
   "id": "07e5c969",
   "metadata": {},
   "outputs": [
    {
     "name": "stdout",
     "output_type": "stream",
     "text": [
      "  EventId  Type Severity       StartTime(UTC)         EndTime(UTC)  \\\n",
      "0     W-1  Snow    Light  2016-01-06 23:14:00  2016-01-07 00:34:00   \n",
      "1     W-2  Snow    Light  2016-01-07 04:14:00  2016-01-07 04:54:00   \n",
      "2     W-3  Snow    Light  2016-01-07 05:54:00  2016-01-07 15:34:00   \n",
      "3     W-4  Snow    Light  2016-01-08 05:34:00  2016-01-08 05:54:00   \n",
      "4     W-5  Snow    Light  2016-01-08 13:54:00  2016-01-08 15:54:00   \n",
      "\n",
      "   Precipitation(in)     TimeZone AirportCode  LocationLat  LocationLng  \\\n",
      "0               0.00  US/Mountain        K04V      38.0972    -106.1689   \n",
      "1               0.00  US/Mountain        K04V      38.0972    -106.1689   \n",
      "2               0.03  US/Mountain        K04V      38.0972    -106.1689   \n",
      "3               0.00  US/Mountain        K04V      38.0972    -106.1689   \n",
      "4               0.00  US/Mountain        K04V      38.0972    -106.1689   \n",
      "\n",
      "       City    County State  ZipCode  \n",
      "0  Saguache  Saguache    CO  81149.0  \n",
      "1  Saguache  Saguache    CO  81149.0  \n",
      "2  Saguache  Saguache    CO  81149.0  \n",
      "3  Saguache  Saguache    CO  81149.0  \n",
      "4  Saguache  Saguache    CO  81149.0  \n"
     ]
    }
   ],
   "source": [
    "# Display the first 5 Lines of WeatherEvents_Jan2016-Dec2022.csv\n",
    "print(data2.head())"
   ]
  },
  {
   "cell_type": "code",
   "execution_count": 8,
   "id": "7e7f1d31",
   "metadata": {},
   "outputs": [
    {
     "name": "stdout",
     "output_type": "stream",
     "text": [
      "  EventId  Type Severity       StartTime(UTC)         EndTime(UTC)  \\\n",
      "0   W-310  Rain    Light  2016-08-01 00:16:00  2016-08-01 00:56:00   \n",
      "1   W-311  Rain    Light  2016-08-01 01:16:00  2016-08-01 01:36:00   \n",
      "2   W-312  Rain    Light  2016-08-01 01:56:00  2016-08-01 02:16:00   \n",
      "3   W-313  Rain    Light  2016-08-01 02:36:00  2016-08-01 02:56:00   \n",
      "4   W-314  Rain    Light  2016-08-01 04:36:00  2016-08-01 04:56:00   \n",
      "\n",
      "      TimeZone  LocationLat  LocationLng AirportCode      City    County  \\\n",
      "0  US/Mountain      38.0972    -106.1689        K04V  Saguache  Saguache   \n",
      "1  US/Mountain      38.0972    -106.1689        K04V  Saguache  Saguache   \n",
      "2  US/Mountain      38.0972    -106.1689        K04V  Saguache  Saguache   \n",
      "3  US/Mountain      38.0972    -106.1689        K04V  Saguache  Saguache   \n",
      "4  US/Mountain      38.0972    -106.1689        K04V  Saguache  Saguache   \n",
      "\n",
      "  State  ZipCode  \n",
      "0    CO  81149.0  \n",
      "1    CO  81149.0  \n",
      "2    CO  81149.0  \n",
      "3    CO  81149.0  \n",
      "4    CO  81149.0  \n"
     ]
    }
   ],
   "source": [
    "# Display the first 5 Lines of WeatherEvents_Aug16_Dec20_Publish.csv\n",
    "print(data3.head())"
   ]
  },
  {
   "cell_type": "markdown",
   "id": "eaf2456a",
   "metadata": {},
   "source": [
    "We will delete the columns: Description, TimeZone, Distance(mi), AirportCode, Side, County, ZipCode"
   ]
  },
  {
   "cell_type": "markdown",
   "id": "15d96b02",
   "metadata": {},
   "source": [
    "# Samer's Code "
   ]
  },
  {
   "cell_type": "code",
   "execution_count": 9,
   "id": "5176b6b4",
   "metadata": {},
   "outputs": [],
   "source": [
    "# # Convert 'StartTime(UTC)' and 'EndTime(UTC)' to datetime\n",
    "# data1['StartTime(UTC)'] = pd.to_datetime(data1['StartTime(UTC)'])\n",
    "# data1['EndTime(UTC)'] = pd.to_datetime(data1['EndTime(UTC)'])\n",
    "\n",
    "# # Define the start and end of the period you're interested in\n",
    "# start_period = pd.to_datetime(\"2016-08-01\")\n",
    "# end_period = pd.to_datetime(\"2017-05-31\")\n",
    "\n",
    "# # Filter the DataFrame for the specified period\n",
    "# filtered_data1 = data1[(data1['StartTime(UTC)'] >= start_period) & (data1['EndTime(UTC)'] <= end_period)]\n",
    "\n",
    "# # Select only the required columns\n",
    "# columns_to_keep = ['Severity', 'Description', 'StartTime(UTC)', 'EndTime(UTC)', 'LocationLat', 'LocationLng', 'City']\n",
    "# filtered_data1 = filtered_data1[columns_to_keep]\n",
    "\n",
    "# # Write the filtered DataFrame to a new CSV file\n",
    "# filtered_data1.to_csv('/Users/samer/Documents/ds_projects/Techlabs | DS/ClimateSight/filtered_data.csv', index=False)"
   ]
  },
  {
   "cell_type": "markdown",
   "id": "39cb8889",
   "metadata": {},
   "source": [
    "# Nicolas' Code (modified)"
   ]
  },
  {
   "cell_type": "code",
   "execution_count": 17,
   "id": "f7a52f0e",
   "metadata": {},
   "outputs": [],
   "source": [
    "import pandas as pd\n",
    "from datetime import datetime\n",
    "\n",
    "def datacutting(file_path):\n",
    "    # Define the date format for parsing\n",
    "    form = \"%Y-%m-%d %H:%M:%S\"\n",
    "\n",
    "    # Read the CSV file, parsing the date columns\n",
    "    df = pd.read_csv(file_path, parse_dates=[\"StartTime(UTC)\", \"EndTime(UTC)\"], date_parser=lambda x: datetime.strptime(x, form))\n",
    "    \n",
    "    # Processing for TrafficEvents_Aug16_Dec20_Publish.csv\n",
    "    if file_path == file1:\n",
    "        y = 5\n",
    "        # Drop unnecessary columns\n",
    "        df_traffic = df.drop(columns=[\"TimeZone\", \"County\", \"AirportCode\", \"ZipCode\", \"Side\", \"Distance(mi)\", \"Description\"])\n",
    "        # Filter and save yearly data into separate files\n",
    "        for i in range(y):\n",
    "            filt = (df_traffic[\"StartTime(UTC)\"] < pd.to_datetime(str(2017 + i) + \"-01-01\")) & (df_traffic[\"StartTime(UTC)\"] > pd.to_datetime(str(2016 + i) + \"-12-31\"))\n",
    "            yearly_data = df_traffic[filt]\n",
    "            yearly_data.to_csv('/Users/samer/Documents/ds_projects/Techlabs_DS/ClimateSight/datasets/cleaned/' + str(2016 + i) + \"_public_traffic.csv\", index=False)\n",
    "    \n",
    "    # Processing for WeatherEvents_Jan2016-Dec2022.csv\n",
    "    elif file_path == file2:\n",
    "        y = 7\n",
    "        # Drop unnecessary columns\n",
    "        df_weather = df.drop(columns=[\"TimeZone\", \"County\", \"AirportCode\", \"ZipCode\"])\n",
    "        # Filter and save yearly data into separate files\n",
    "        for i in range(y):\n",
    "            filt = (df_weather[\"StartTime(UTC)\"] < pd.to_datetime(str(2017 + i) + \"-01-01\")) & (df_weather[\"StartTime(UTC)\"] > pd.to_datetime(str(2016 + i) + \"-12-31\"))\n",
    "            yearly_data = df_weather[filt]\n",
    "            yearly_data.to_csv('/Users/samer/Documents/ds_projects/Techlabs_DS/ClimateSight/datasets/cleaned/' + str(2016 + i) + \"_weather_events_kaggle.csv\", index=False)\n",
    "\n",
    "    # Processing for WeatherEvents_Aug16_Dec20_Publish.csv\n",
    "    elif file_path == file3:\n",
    "        y = 5\n",
    "        # Drop unnecessary columns\n",
    "        df_weather = df.drop(columns=[\"TimeZone\", \"County\", \"AirportCode\", \"ZipCode\"])\n",
    "        # Filter and save yearly data into separate files\n",
    "        for i in range(y):\n",
    "            filt = (df_weather[\"StartTime(UTC)\"] < pd.to_datetime(str(2017 + i) + \"-01-01\")) & (df_weather[\"StartTime(UTC)\"] > pd.to_datetime(str(2016 + i) + \"-12-31\"))\n",
    "            yearly_data = df_weather[filt]\n",
    "            yearly_data.to_csv('/Users/samer/Documents/ds_projects/Techlabs_DS/ClimateSight/datasets/cleaned/' + str(2016 + i) + \"_weather_events.csv\", index=False)"
   ]
  },
  {
   "cell_type": "code",
   "execution_count": 11,
   "id": "773918ad",
   "metadata": {},
   "outputs": [
    {
     "name": "stderr",
     "output_type": "stream",
     "text": [
      "/var/folders/ww/6jlmx2cs5ng8_1c0qpg9f73w0000gn/T/ipykernel_98915/2616489601.py:9: FutureWarning: The argument 'date_parser' is deprecated and will be removed in a future version. Please use 'date_format' instead, or read your data in as 'object' dtype and then call 'to_datetime'.\n",
      "  df = pd.read_csv(file_path, parse_dates=[\"StartTime(UTC)\", \"EndTime(UTC)\"], date_parser=lambda x: datetime.strptime(x, form))\n"
     ]
    }
   ],
   "source": [
    "# Call the 'datacutting' function for TrafficEvents_Aug16_Dec20_Publish.csv\n",
    "datacutting(file1)"
   ]
  },
  {
   "cell_type": "code",
   "execution_count": 18,
   "id": "601a2b66",
   "metadata": {},
   "outputs": [
    {
     "name": "stderr",
     "output_type": "stream",
     "text": [
      "/var/folders/ww/6jlmx2cs5ng8_1c0qpg9f73w0000gn/T/ipykernel_98915/1551587207.py:9: FutureWarning: The argument 'date_parser' is deprecated and will be removed in a future version. Please use 'date_format' instead, or read your data in as 'object' dtype and then call 'to_datetime'.\n",
      "  df = pd.read_csv(file_path, parse_dates=[\"StartTime(UTC)\", \"EndTime(UTC)\"], date_parser=lambda x: datetime.strptime(x, form))\n"
     ]
    }
   ],
   "source": [
    "# Call the 'datacutting' function for WeatherEvents_Jan2016-Dec2022.csv\n",
    "datacutting(file2)"
   ]
  },
  {
   "cell_type": "code",
   "execution_count": 19,
   "id": "3824138f",
   "metadata": {},
   "outputs": [
    {
     "name": "stderr",
     "output_type": "stream",
     "text": [
      "/var/folders/ww/6jlmx2cs5ng8_1c0qpg9f73w0000gn/T/ipykernel_98915/1551587207.py:9: FutureWarning: The argument 'date_parser' is deprecated and will be removed in a future version. Please use 'date_format' instead, or read your data in as 'object' dtype and then call 'to_datetime'.\n",
      "  df = pd.read_csv(file_path, parse_dates=[\"StartTime(UTC)\", \"EndTime(UTC)\"], date_parser=lambda x: datetime.strptime(x, form))\n"
     ]
    }
   ],
   "source": [
    "# Call the 'datacutting' function for WeatherEvents_Aug16_Dec20_Publish.csv\n",
    "datacutting(file3)"
   ]
  },
  {
   "cell_type": "code",
   "execution_count": null,
   "id": "3e33567f",
   "metadata": {},
   "outputs": [],
   "source": []
  }
 ],
 "metadata": {
  "kernelspec": {
   "display_name": "Python 3 (ipykernel)",
   "language": "python",
   "name": "python3"
  },
  "language_info": {
   "codemirror_mode": {
    "name": "ipython",
    "version": 3
   },
   "file_extension": ".py",
   "mimetype": "text/x-python",
   "name": "python",
   "nbconvert_exporter": "python",
   "pygments_lexer": "ipython3",
   "version": "3.11.5"
  }
 },
 "nbformat": 4,
 "nbformat_minor": 5
}
